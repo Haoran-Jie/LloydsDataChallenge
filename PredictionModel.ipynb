{
 "cells": [
  {
   "cell_type": "code",
   "execution_count": 11,
   "metadata": {},
   "outputs": [],
   "source": [
    "import pandas as pd\n",
    "import numpy as np\n",
    "from sklearn.ensemble import RandomForestClassifier\n",
    "from sklearn.datasets import make_classification\n",
    "from sklearn.metrics import accuracy_score"
   ]
  },
  {
   "cell_type": "code",
   "execution_count": 9,
   "metadata": {},
   "outputs": [],
   "source": [
    "#import data\n",
    "dataset = pd.read_csv(\"Preprocessed_Dataset.csv\",index_col=\"id\")\n",
    "dataset = np.array(dataset.values)\n",
    "X = dataset[:,:-1]\n",
    "Y = dataset[:,-1]\n",
    "trainX,testX=X[:4000,:],X[4000:,:]\n",
    "trainY,testY=Y[:4000],Y[4000:]"
   ]
  },
  {
   "cell_type": "code",
   "execution_count": 12,
   "metadata": {},
   "outputs": [
    {
     "name": "stdout",
     "output_type": "stream",
     "text": [
      "0.7769784172661871\n"
     ]
    }
   ],
   "source": [
    "clf = RandomForestClassifier() #TODO: add paramters\n",
    "clf.fit(trainX,trainY)\n",
    "predY=clf.predict(testX)\n",
    "print(accuracy_score(testY,predY))"
   ]
  }
 ],
 "metadata": {
  "kernelspec": {
   "display_name": "Python 3.9.13 ('base')",
   "language": "python",
   "name": "python3"
  },
  "language_info": {
   "codemirror_mode": {
    "name": "ipython",
    "version": 3
   },
   "file_extension": ".py",
   "mimetype": "text/x-python",
   "name": "python",
   "nbconvert_exporter": "python",
   "pygments_lexer": "ipython3",
   "version": "3.9.13"
  },
  "orig_nbformat": 4,
  "vscode": {
   "interpreter": {
    "hash": "cb9217bf5acef914b45d719efd7a09638e51312250aef16a5d9d56ac442664fb"
   }
  }
 },
 "nbformat": 4,
 "nbformat_minor": 2
}
