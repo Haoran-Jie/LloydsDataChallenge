{
 "cells": [
  {
   "cell_type": "code",
   "execution_count": 2,
   "metadata": {},
   "outputs": [],
   "source": [
    "import pandas as pd\n",
    "import numpy as np\n",
    "\n",
    "rawdataset = pd.read_excel(\"LBGStepUpDataSet.xlsx\",index_col=\"id\")\n",
    "# Drop rows with NaN Values\n",
    "rawdataset=rawdataset.dropna(axis=0,how=\"any\")"
   ]
  },
  {
   "cell_type": "code",
   "execution_count": 3,
   "metadata": {},
   "outputs": [],
   "source": [
    "def extractnumber(word):\n",
    "    ans=\"\"\n",
    "    for char in word:\n",
    "        if char.isdigit():\n",
    "            ans=ans+char\n",
    "    return int(ans)"
   ]
  },
  {
   "cell_type": "code",
   "execution_count": 4,
   "metadata": {},
   "outputs": [
    {
     "data": {
      "text/plain": [
       "29"
      ]
     },
     "execution_count": 4,
     "metadata": {},
     "output_type": "execute_result"
    }
   ],
   "source": [
    "rawdataset.columns.get_loc(\"loan_status\")"
   ]
  },
  {
   "cell_type": "code",
   "execution_count": 5,
   "metadata": {},
   "outputs": [
    {
     "data": {
      "text/plain": [
       "12"
      ]
     },
     "execution_count": 5,
     "metadata": {},
     "output_type": "execute_result"
    }
   ],
   "source": [
    "rawdataset[\"home_ownership\"].nunique() #4\n",
    "rawdataset[\"purpose\"].nunique() #12"
   ]
  },
  {
   "cell_type": "code",
   "execution_count": 6,
   "metadata": {},
   "outputs": [],
   "source": [
    "#emp_length\n",
    "for i in range(4417):\n",
    "    rawdataset.iloc[i,2]=extractnumber(str(rawdataset.iloc[i,2]))\n",
    "    rawdataset.iloc[i,8]=extractnumber(str(rawdataset.iloc[i,8]))\n",
    "    if rawdataset.iloc[i,29]==\"Fully Paid\":\n",
    "        rawdataset.iloc[i,29]=1\n",
    "    else:\n",
    "        rawdataset.iloc[i,29]=0\n",
    "rawdataset[\"emp_length\"]=pd.to_numeric(rawdataset[\"emp_length\"])\n",
    "rawdataset[\"term\"]=pd.to_numeric(rawdataset[\"term\"])\n",
    "\n",
    "# Drop the two states that have too many categorical values\n",
    "rawdataset=rawdataset.drop(axis='columns',labels=[\"addr_state\",\"emp_title\",\"purpose\"])\n"
   ]
  },
  {
   "cell_type": "code",
   "execution_count": 7,
   "metadata": {},
   "outputs": [],
   "source": [
    "# Dummy variable generation\n",
    "rawdataset=pd.concat([pd.get_dummies(rawdataset[\"home_ownership\"]),rawdataset],axis=1)"
   ]
  },
  {
   "cell_type": "code",
   "execution_count": 8,
   "metadata": {},
   "outputs": [],
   "source": [
    "preprocessedDataset = rawdataset.drop(axis=\"columns\",labels=\"home_ownership\")"
   ]
  },
  {
   "cell_type": "code",
   "execution_count": 9,
   "metadata": {},
   "outputs": [],
   "source": [
    "preprocessedDataset.to_csv(\"Preprocessed_Dataset\")"
   ]
  }
 ],
 "metadata": {
  "kernelspec": {
   "display_name": "Python 3.9.13 ('base')",
   "language": "python",
   "name": "python3"
  },
  "language_info": {
   "codemirror_mode": {
    "name": "ipython",
    "version": 3
   },
   "file_extension": ".py",
   "mimetype": "text/x-python",
   "name": "python",
   "nbconvert_exporter": "python",
   "pygments_lexer": "ipython3",
   "version": "3.9.13"
  },
  "orig_nbformat": 4,
  "vscode": {
   "interpreter": {
    "hash": "cb9217bf5acef914b45d719efd7a09638e51312250aef16a5d9d56ac442664fb"
   }
  }
 },
 "nbformat": 4,
 "nbformat_minor": 2
}
